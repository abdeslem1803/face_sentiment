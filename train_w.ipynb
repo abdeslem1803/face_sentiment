{
  "cells": [
    {
      "cell_type": "code",
      "execution_count": null,
      "metadata": {
        "colab": {
          "base_uri": "https://localhost:8080/"
        },
        "id": "shI_9hh5O2y8",
        "outputId": "a396dff9-08b1-4f75-af91-f4ae36433bbd"
      },
      "outputs": [
        {
          "name": "stdout",
          "output_type": "stream",
          "text": [
            "--2021-11-27 23:15:37--  https://filesender.renater.fr/download.php?token=1399b9ee-9f53-4f8a-b921-d212325f06a4&files_ids=10167290\n",
            "Resolving filesender.renater.fr (filesender.renater.fr)... 194.57.3.10\n",
            "Connecting to filesender.renater.fr (filesender.renater.fr)|194.57.3.10|:443... connected.\n",
            "HTTP request sent, awaiting response... 200 OK\n",
            "Length: 80330117 (77M) [application/zip]\n",
            "Saving to: ‘face_emotion.zip’\n",
            "\n",
            "face_emotion.zip    100%[===================>]  76.61M   621KB/s    in 2m 8s   \n",
            "\n",
            "2021-11-27 23:17:45 (615 KB/s) - ‘face_emotion.zip’ saved [80330117/80330117]\n",
            "\n",
            "--2021-11-27 23:17:45--  http://facemask/\n",
            "Resolving facemask (facemask)... failed: Name or service not known.\n",
            "wget: unable to resolve host address ‘facemask’\n",
            "FINISHED --2021-11-27 23:17:45--\n",
            "Total wall clock time: 2m 9s\n",
            "Downloaded: 1 files, 77M in 2m 8s (615 KB/s)\n"
          ]
        }
      ],
      "source": [
        "!wget -O face_emotion.zip \"https://filesender.renater.fr/download.php?token=1399b9ee-9f53-4f8a-b921-d212325f06a4&files_ids=10167290\" facemask\n"
      ]
    },
    {
      "cell_type": "code",
      "execution_count": null,
      "metadata": {
        "id": "SXTSABuHSElB"
      },
      "outputs": [],
      "source": [
        "!unzip -q face_emotion.zip -d image_emotion"
      ]
    },
    {
      "cell_type": "code",
      "execution_count": null,
      "metadata": {
        "id": "QCKm_x-BZTmj"
      },
      "outputs": [],
      "source": [
        "picture_size = 48"
      ]
    },
    {
      "cell_type": "code",
      "execution_count": null,
      "metadata": {
        "colab": {
          "base_uri": "https://localhost:8080/"
        },
        "id": "G1e0dLJSVvpy",
        "outputId": "822b6f3c-d581-4444-ba75-1393bfa69e3a"
      },
      "outputs": [
        {
          "name": "stdout",
          "output_type": "stream",
          "text": [
            "(28709,)\n"
          ]
        }
      ],
      "source": [
        "import os\n",
        "from keras.preprocessing.image import load_img, img_to_array\n",
        "from tensorflow.keras.applications.mobilenet_v2 import preprocess_input\n",
        "import numpy as np\n",
        "dataset_Foldre=\"image_emotion/image_emotion/train\"\n",
        "dataset_Classes = [\"angry\",\"disgust\",\"fear\",\"happy\",\"neutral\",\"sad\",\"surprise\"]\n",
        "data = []\n",
        "labels = []\n",
        "for folder in dataset_Classes:\n",
        "    path = os.path.join(dataset_Foldre,folder)\n",
        "    category_num = dataset_Classes.index(folder)\n",
        "    for image_name in os.listdir(path):\n",
        "        image_path = os.path.join(path,image_name)\n",
        "        image = load_img(image_path, target_size=(picture_size, picture_size),color_mode=\"grayscale\")\n",
        "        image = img_to_array(image)\n",
        "        image = preprocess_input(image)\n",
        "        data.append(image)\n",
        "        labels.append(category_num)        \n",
        "\n",
        "data_train = np.array(data, dtype=\"float32\")\n",
        "labels_train = np.array(labels)\n",
        "dataset_Foldre=\"image_emotion/image_emotion/test\"\n",
        "data = []\n",
        "labels = []\n",
        "for folder in dataset_Classes:\n",
        "    path = os.path.join(dataset_Foldre,folder)\n",
        "    category_num = dataset_Classes.index(folder)\n",
        "    for image_name in os.listdir(path):\n",
        "        image_path = os.path.join(path,image_name)\n",
        "        image = load_img(image_path, target_size=(picture_size, picture_size),color_mode=\"grayscale\")\n",
        "        image = img_to_array(image)\n",
        "        image = preprocess_input(image)\n",
        "        data.append(image)\n",
        "        labels.append(category_num)        \n",
        "\n",
        "data_test = np.array(data, dtype=\"float32\")\n",
        "labels_test = np.array(labels)\n",
        "        "
      ]
    },
    {
      "cell_type": "code",
      "execution_count": null,
      "metadata": {
        "id": "9jQU-EnRgZiK"
      },
      "outputs": [],
      "source": [
        "from keras import models\n",
        "from keras.layers import Activation, Conv2D, MaxPooling2D, Dense, Flatten, Dropout, BatchNormalization\n",
        "from tensorflow.keras.optimizers import RMSprop,Adam\n",
        "from tensorflow.keras import Sequential"
      ]
    },
    {
      "cell_type": "code",
      "execution_count": null,
      "metadata": {
        "id": "7NBlPcV6SKQ8"
      },
      "outputs": [],
      "source": [
        "from keras.callbacks import ModelCheckpoint, EarlyStopping, ReduceLROnPlateau\n",
        "\n",
        "checkpoint = ModelCheckpoint(\"model.h5\", monitor='val_acc', verbose=1, save_best_only=True, mode='max')\n",
        "\n",
        "early_stopping = EarlyStopping(monitor='val_loss',\n",
        "                          min_delta=0,\n",
        "                          patience=7,\n",
        "                          verbose=1,\n",
        "                          restore_best_weights=True\n",
        "                          )\n",
        "\n",
        "reduce_learningrate = ReduceLROnPlateau(monitor='val_loss',\n",
        "                              factor=0.2,\n",
        "                              patience=3,\n",
        "                              verbose=1,\n",
        "                              min_delta=0.0001)\n",
        "\n",
        "callbacks_list = [early_stopping,checkpoint,reduce_learningrate]\n",
        "\n",
        "epochs = 48\n"
      ]
    },
    {
      "cell_type": "code",
      "execution_count": null,
      "metadata": {
        "colab": {
          "base_uri": "https://localhost:8080/"
        },
        "id": "d3Rc72_PnDH2",
        "outputId": "c3b7dfb2-9c1f-41ce-ec25-b6706c885c40"
      },
      "outputs": [
        {
          "name": "stdout",
          "output_type": "stream",
          "text": [
            "Model: \"sequential_3\"\n",
            "_________________________________________________________________\n",
            " Layer (type)                Output Shape              Param #   \n",
            "=================================================================\n",
            " conv2d_17 (Conv2D)          (None, 48, 48, 32)        320       \n",
            "                                                                 \n",
            " activation_22 (Activation)  (None, 48, 48, 32)        0         \n",
            "                                                                 \n",
            " batch_normalization_20 (Bat  (None, 48, 48, 32)       128       \n",
            " chNormalization)                                                \n",
            "                                                                 \n",
            " conv2d_18 (Conv2D)          (None, 48, 48, 32)        9248      \n",
            "                                                                 \n",
            " activation_23 (Activation)  (None, 48, 48, 32)        0         \n",
            "                                                                 \n",
            " batch_normalization_21 (Bat  (None, 48, 48, 32)       128       \n",
            " chNormalization)                                                \n",
            "                                                                 \n",
            " max_pooling2d_8 (MaxPooling  (None, 24, 24, 32)       0         \n",
            " 2D)                                                             \n",
            "                                                                 \n",
            " dropout_12 (Dropout)        (None, 24, 24, 32)        0         \n",
            "                                                                 \n",
            " conv2d_19 (Conv2D)          (None, 24, 24, 64)        18496     \n",
            "                                                                 \n",
            " activation_24 (Activation)  (None, 24, 24, 64)        0         \n",
            "                                                                 \n",
            " batch_normalization_22 (Bat  (None, 24, 24, 64)       256       \n",
            " chNormalization)                                                \n",
            "                                                                 \n",
            " conv2d_20 (Conv2D)          (None, 24, 24, 64)        36928     \n",
            "                                                                 \n",
            " activation_25 (Activation)  (None, 24, 24, 64)        0         \n",
            "                                                                 \n",
            " batch_normalization_23 (Bat  (None, 24, 24, 64)       256       \n",
            " chNormalization)                                                \n",
            "                                                                 \n",
            " max_pooling2d_9 (MaxPooling  (None, 12, 12, 64)       0         \n",
            " 2D)                                                             \n",
            "                                                                 \n",
            " dropout_13 (Dropout)        (None, 12, 12, 64)        0         \n",
            "                                                                 \n",
            " conv2d_21 (Conv2D)          (None, 12, 12, 128)       73856     \n",
            "                                                                 \n",
            " activation_26 (Activation)  (None, 12, 12, 128)       0         \n",
            "                                                                 \n",
            " batch_normalization_24 (Bat  (None, 12, 12, 128)      512       \n",
            " chNormalization)                                                \n",
            "                                                                 \n",
            " conv2d_22 (Conv2D)          (None, 12, 12, 128)       147584    \n",
            "                                                                 \n",
            " activation_27 (Activation)  (None, 12, 12, 128)       0         \n",
            "                                                                 \n",
            " batch_normalization_25 (Bat  (None, 12, 12, 128)      512       \n",
            " chNormalization)                                                \n",
            "                                                                 \n",
            " max_pooling2d_10 (MaxPoolin  (None, 6, 6, 128)        0         \n",
            " g2D)                                                            \n",
            "                                                                 \n",
            " dropout_14 (Dropout)        (None, 6, 6, 128)         0         \n",
            "                                                                 \n",
            " conv2d_23 (Conv2D)          (None, 6, 6, 256)         295168    \n",
            "                                                                 \n",
            " activation_28 (Activation)  (None, 6, 6, 256)         0         \n",
            "                                                                 \n",
            " batch_normalization_26 (Bat  (None, 6, 6, 256)        1024      \n",
            " chNormalization)                                                \n",
            "                                                                 \n",
            " conv2d_24 (Conv2D)          (None, 6, 6, 256)         590080    \n",
            "                                                                 \n",
            " activation_29 (Activation)  (None, 6, 6, 256)         0         \n",
            "                                                                 \n",
            " batch_normalization_27 (Bat  (None, 6, 6, 256)        1024      \n",
            " chNormalization)                                                \n",
            "                                                                 \n",
            " max_pooling2d_11 (MaxPoolin  (None, 3, 3, 256)        0         \n",
            " g2D)                                                            \n",
            "                                                                 \n",
            " dropout_15 (Dropout)        (None, 3, 3, 256)         0         \n",
            "                                                                 \n",
            " flatten_2 (Flatten)         (None, 2304)              0         \n",
            "                                                                 \n",
            " dense_6 (Dense)             (None, 64)                147520    \n",
            "                                                                 \n",
            " activation_30 (Activation)  (None, 64)                0         \n",
            "                                                                 \n",
            " batch_normalization_28 (Bat  (None, 64)               256       \n",
            " chNormalization)                                                \n",
            "                                                                 \n",
            " dropout_16 (Dropout)        (None, 64)                0         \n",
            "                                                                 \n",
            " dense_7 (Dense)             (None, 64)                4160      \n",
            "                                                                 \n",
            " activation_31 (Activation)  (None, 64)                0         \n",
            "                                                                 \n",
            " batch_normalization_29 (Bat  (None, 64)               256       \n",
            " chNormalization)                                                \n",
            "                                                                 \n",
            " dropout_17 (Dropout)        (None, 64)                0         \n",
            "                                                                 \n",
            " dense_8 (Dense)             (None, 7)                 455       \n",
            "                                                                 \n",
            " activation_32 (Activation)  (None, 7)                 0         \n",
            "                                                                 \n",
            "=================================================================\n",
            "Total params: 1,328,167\n",
            "Trainable params: 1,325,991\n",
            "Non-trainable params: 2,176\n",
            "_________________________________________________________________\n"
          ]
        }
      ],
      "source": [
        "model = Sequential()\n",
        "\n",
        "model.add(Conv2D(32,(3,3),padding='same',kernel_initializer='he_normal',input_shape=(48,48,1)))\n",
        "model.add(Activation('relu'))\n",
        "model.add(BatchNormalization())\n",
        "model.add(Conv2D(32,(3,3),padding='same',kernel_initializer='he_normal',input_shape=(48,48,1)))\n",
        "model.add(Activation('relu'))\n",
        "model.add(BatchNormalization())\n",
        "model.add(MaxPooling2D(pool_size=(2,2)))\n",
        "model.add(Dropout(0.2))\n",
        "\n",
        "model.add(Conv2D(128,(3,3),padding='same',kernel_initializer='he_normal'))\n",
        "model.add(Activation('relu'))\n",
        "model.add(BatchNormalization())\n",
        "model.add(Conv2D(128,(3,3),padding='same',kernel_initializer='he_normal'))\n",
        "model.add(Activation('relu'))\n",
        "model.add(BatchNormalization())\n",
        "model.add(MaxPooling2D(pool_size=(2,2)))\n",
        "model.add(Dropout(0.2))\n",
        "\n",
        "model.add(Conv2D(256,(3,3),padding='same',kernel_initializer='he_normal'))\n",
        "model.add(Activation('relu'))\n",
        "model.add(BatchNormalization())\n",
        "model.add(Conv2D(256,(3,3),padding='same',kernel_initializer='he_normal'))\n",
        "model.add(Activation('relu'))\n",
        "model.add(BatchNormalization())\n",
        "model.add(MaxPooling2D(pool_size=(2,2)))\n",
        "model.add(Dropout(0.2))\n",
        "\n",
        "\n",
        "model.add(Conv2D(256,(3,3),padding='same',kernel_initializer='he_normal'))\n",
        "model.add(Activation('relu'))\n",
        "model.add(BatchNormalization())\n",
        "model.add(Conv2D(256,(3,3),padding='same',kernel_initializer='he_normal'))\n",
        "model.add(Activation('relu'))\n",
        "model.add(BatchNormalization())\n",
        "model.add(MaxPooling2D(pool_size=(2,2)))\n",
        "model.add(Dropout(0.2))\n",
        "\n",
        "\n",
        "model.add(Flatten())\n",
        "model.add(Dense(64,kernel_initializer='he_normal'))\n",
        "model.add(Activation('relu'))\n",
        "model.add(BatchNormalization())\n",
        "model.add(Dropout(0.5))\n",
        "\n",
        "\n",
        "model.add(Dense(64,kernel_initializer='he_normal'))\n",
        "model.add(Activation('relu'))\n",
        "model.add(BatchNormalization())\n",
        "model.add(Dropout(0.5))\n",
        "\n",
        "\n",
        "model.add(Dense(7,kernel_initializer='he_normal'))\n",
        "model.add(Activation('softmax'))\n",
        "\n",
        "model.summary()\n"
      ]
    },
    {
      "cell_type": "code",
      "execution_count": null,
      "metadata": {
        "colab": {
          "base_uri": "https://localhost:8080/"
        },
        "id": "aM0GcOgfphGR",
        "outputId": "971f75e5-fa06-4046-8c54-0f15e6bd00ea"
      },
      "outputs": [
        {
          "name": "stderr",
          "output_type": "stream",
          "text": [
            "/usr/local/lib/python3.7/dist-packages/keras/optimizer_v2/adam.py:105: UserWarning: The `lr` argument is deprecated, use `learning_rate` instead.\n",
            "  super(Adam, self).__init__(name, **kwargs)\n"
          ]
        }
      ],
      "source": [
        "model.compile(optimizer=Adam(lr=1e-3), loss='sparse_categorical_crossentropy', metrics=['accuracy'])"
      ]
    },
    {
      "cell_type": "code",
      "execution_count": null,
      "metadata": {
        "id": "AId21hkrkta8"
      },
      "outputs": [],
      "source": [
        "\"\"\"batch_size = 128\n",
        "data_size = data_train.shape[0]\n",
        "model = Sequential()\n",
        "model.add(Conv2D(32, (3, 3), activation='relu', input_shape=(48, 48, 1)))\n",
        "model.add(MaxPool2D((2, 2)))\n",
        "model.add(Conv2D(64, (3, 3), activation='relu'))\n",
        "model.add(MaxPool2D((2, 2)))\n",
        "model.add(Conv2D(64, (3, 3), activation='relu'))\n",
        "model.add(MaxPool2D((2, 2)))\n",
        "model.add(Conv2D(64, (3, 3), activation='relu'))\n",
        "model.add(MaxPool2D((2, 2)))\n",
        "model.add(Flatten())\n",
        "model.add(Dense(64, activation='relu'))\n",
        "model.add(Flatten())\n",
        "model.add(Dense(64, activation='relu'))\n",
        "model.add(Dense(7, activation='softmax'))\n",
        "model.compile(optimizer=Adam(lr=1e-3), loss='sparse_categorical_crossentropy', metrics=['accuracy'])\n",
        "model.summary()\"\"\""
      ]
    },
    {
      "cell_type": "code",
      "execution_count": null,
      "metadata": {
        "colab": {
          "base_uri": "https://localhost:8080/"
        },
        "id": "c5FfkU7kysdR",
        "outputId": "51658b42-0e56-4752-d580-e60c36314378"
      },
      "outputs": [
        {
          "name": "stdout",
          "output_type": "stream",
          "text": [
            "Epoch 1/50\n",
            "449/449 [==============================] - ETA: 0s - loss: 2.2120 - accuracy: 0.2222WARNING:tensorflow:Can save best model only with val_acc available, skipping.\n",
            "449/449 [==============================] - 25s 51ms/step - loss: 2.2120 - accuracy: 0.2222 - val_loss: 1.7462 - val_accuracy: 0.3002 - lr: 0.0010\n",
            "Epoch 2/50\n",
            "448/449 [============================>.] - ETA: 0s - loss: 1.6871 - accuracy: 0.3406WARNING:tensorflow:Can save best model only with val_acc available, skipping.\n",
            "449/449 [==============================] - 22s 49ms/step - loss: 1.6871 - accuracy: 0.3407 - val_loss: 1.4842 - val_accuracy: 0.4216 - lr: 0.0010\n",
            "Epoch 3/50\n",
            "449/449 [==============================] - ETA: 0s - loss: 1.4918 - accuracy: 0.4240WARNING:tensorflow:Can save best model only with val_acc available, skipping.\n",
            "449/449 [==============================] - 22s 49ms/step - loss: 1.4918 - accuracy: 0.4240 - val_loss: 1.3497 - val_accuracy: 0.4806 - lr: 0.0010\n",
            "Epoch 4/50\n",
            "449/449 [==============================] - ETA: 0s - loss: 1.3948 - accuracy: 0.4586WARNING:tensorflow:Can save best model only with val_acc available, skipping.\n",
            "449/449 [==============================] - 22s 49ms/step - loss: 1.3948 - accuracy: 0.4586 - val_loss: 1.2947 - val_accuracy: 0.4999 - lr: 0.0010\n",
            "Epoch 5/50\n",
            "449/449 [==============================] - ETA: 0s - loss: 1.3229 - accuracy: 0.4906WARNING:tensorflow:Can save best model only with val_acc available, skipping.\n",
            "449/449 [==============================] - 22s 49ms/step - loss: 1.3229 - accuracy: 0.4906 - val_loss: 1.2400 - val_accuracy: 0.5258 - lr: 0.0010\n",
            "Epoch 6/50\n",
            "449/449 [==============================] - ETA: 0s - loss: 1.2628 - accuracy: 0.5189WARNING:tensorflow:Can save best model only with val_acc available, skipping.\n",
            "449/449 [==============================] - 22s 50ms/step - loss: 1.2628 - accuracy: 0.5189 - val_loss: 1.1827 - val_accuracy: 0.5410 - lr: 0.0010\n",
            "Epoch 7/50\n",
            "448/449 [============================>.] - ETA: 0s - loss: 1.2142 - accuracy: 0.5450WARNING:tensorflow:Can save best model only with val_acc available, skipping.\n",
            "449/449 [==============================] - 22s 50ms/step - loss: 1.2139 - accuracy: 0.5451 - val_loss: 1.1541 - val_accuracy: 0.5575 - lr: 0.0010\n",
            "Epoch 8/50\n",
            "449/449 [==============================] - ETA: 0s - loss: 1.1701 - accuracy: 0.5646WARNING:tensorflow:Can save best model only with val_acc available, skipping.\n",
            "449/449 [==============================] - 22s 50ms/step - loss: 1.1701 - accuracy: 0.5646 - val_loss: 1.1330 - val_accuracy: 0.5639 - lr: 0.0010\n",
            "Epoch 9/50\n",
            "448/449 [============================>.] - ETA: 0s - loss: 1.1235 - accuracy: 0.5848WARNING:tensorflow:Can save best model only with val_acc available, skipping.\n",
            "449/449 [==============================] - 22s 49ms/step - loss: 1.1234 - accuracy: 0.5848 - val_loss: 1.0757 - val_accuracy: 0.5929 - lr: 0.0010\n",
            "Epoch 10/50\n",
            "448/449 [============================>.] - ETA: 0s - loss: 1.0806 - accuracy: 0.5998WARNING:tensorflow:Can save best model only with val_acc available, skipping.\n",
            "449/449 [==============================] - 22s 49ms/step - loss: 1.0804 - accuracy: 0.5998 - val_loss: 1.0628 - val_accuracy: 0.6016 - lr: 0.0010\n",
            "Epoch 11/50\n",
            "448/449 [============================>.] - ETA: 0s - loss: 1.0399 - accuracy: 0.6240WARNING:tensorflow:Can save best model only with val_acc available, skipping.\n",
            "449/449 [==============================] - 22s 49ms/step - loss: 1.0400 - accuracy: 0.6241 - val_loss: 1.0822 - val_accuracy: 0.5971 - lr: 0.0010\n",
            "Epoch 12/50\n",
            "449/449 [==============================] - ETA: 0s - loss: 0.9998 - accuracy: 0.6371WARNING:tensorflow:Can save best model only with val_acc available, skipping.\n",
            "449/449 [==============================] - 22s 49ms/step - loss: 0.9998 - accuracy: 0.6371 - val_loss: 1.0725 - val_accuracy: 0.5975 - lr: 0.0010\n",
            "Epoch 13/50\n",
            "449/449 [==============================] - ETA: 0s - loss: 0.9638 - accuracy: 0.6504Restoring model weights from the end of the best epoch: 10.\n",
            "WARNING:tensorflow:Can save best model only with val_acc available, skipping.\n",
            "\n",
            "Epoch 00013: ReduceLROnPlateau reducing learning rate to 0.00020000000949949026.\n",
            "449/449 [==============================] - 22s 49ms/step - loss: 0.9638 - accuracy: 0.6504 - val_loss: 1.0713 - val_accuracy: 0.6121 - lr: 0.0010\n",
            "Epoch 00013: early stopping\n"
          ]
        }
      ],
      "source": [
        "history = model.fit(data_train, labels_train,shuffle=True,\n",
        "                    validation_data=(data_test, labels_test),\n",
        "                    epochs=50,\n",
        "                    batch_size=64,callbacks=callbacks_list)"
      ]
    },
    {
      "cell_type": "code",
      "execution_count": null,
      "metadata": {
        "colab": {
          "base_uri": "https://localhost:8080/",
          "height": 350
        },
        "id": "UIQ29EmxfhBF",
        "outputId": "63e7a92a-4093-46c4-8208-b46f01983ad8"
      },
      "outputs": [
        {
          "data": {
            "image/png": "[encoded data removed]",
            "text/plain": [
              "<Figure size 720x360 with 2 Axes>"
            ]
          },
          "metadata": {
            "needs_background": "light"
          },
          "output_type": "display_data"
        }
      ],
      "source": [
        "import matplotlib.pyplot as plt\n",
        "\n",
        "fig , ax = plt.subplots(1,2)\n",
        "train_accuracy = history.history['accuracy']\n",
        "train_loss = history.history['loss']\n",
        "fig.set_size_inches(10,5)\n",
        "\n",
        "ax[0].plot(history.history['accuracy'])\n",
        "ax[0].plot(history.history['val_accuracy'])\n",
        "ax[0].set_title('Training Accuracy vs Validation Accuracy')\n",
        "ax[0].set_ylabel('Accuracy')\n",
        "ax[0].set_xlabel('Epochs')\n",
        "ax[0].legend(['Train', 'Validation'], loc='best')\n",
        "\n",
        "ax[1].plot(history.history['loss'])\n",
        "ax[1].plot(history.history['val_loss'])\n",
        "ax[1].set_title('Training Loss vs Validation Loss')\n",
        "ax[1].set_ylabel('Loss')\n",
        "ax[1].set_xlabel('Epochs')\n",
        "ax[1].legend(['Train', 'Validation'], loc='best')\n",
        "\n",
        "plt.show()"
      ]
    },
    {
      "cell_type": "code",
      "execution_count": null,
      "metadata": {
        "id": "-U8LW1qfzYum"
      },
      "outputs": [],
      "source": [
        "model.save('emotion_detection.h5')\n",
        "model.save_weights('model_weight.h5')\n",
        "np.save(\"history\", history.history)"
      ]
    },
    {
      "cell_type": "code",
      "execution_count": null,
      "metadata": {
        "colab": {
          "base_uri": "https://localhost:8080/"
        },
        "id": "yyo-SwiVNES7",
        "outputId": "42a4906d-b56f-46a2-90f3-31cf72e61456"
      },
      "outputs": [
        {
          "data": {
            "text/plain": [
              "numpy.ndarray"
            ]
          },
          "execution_count": 30,
          "metadata": {},
          "output_type": "execute_result"
        }
      ],
      "source": [
        "type(data_test)"
      ]
    },
    {
      "cell_type": "code",
      "execution_count": null,
      "metadata": {
        "colab": {
          "base_uri": "https://localhost:8080/"
        },
        "id": "XE3Sw5c1ybCX",
        "outputId": "6e7e8b88-7f42-4c95-f11c-8c2d7954c295"
      },
      "outputs": [
        {
          "name": "stdout",
          "output_type": "stream",
          "text": [
            "[[1.0143765e-01 1.5129494e-02 3.0549222e-01 ... 1.5269163e-01\n",
            "  3.9611158e-01 1.4847889e-02]\n",
            " [5.1316220e-01 4.0192034e-02 2.0019159e-01 ... 7.1972989e-02\n",
            "  1.5761690e-01 1.0848062e-02]\n",
            " [2.4279331e-01 9.9426433e-03 1.4352179e-01 ... 1.4795856e-01\n",
            "  4.3299019e-01 2.6213187e-03]\n",
            " ...\n",
            " [4.2184070e-04 8.0855880e-06 7.9735974e-03 ... 2.0745516e-04\n",
            "  3.1817406e-05 9.9096805e-01]\n",
            " [2.3858892e-03 1.4280788e-04 3.1201199e-03 ... 5.8555277e-04\n",
            "  4.6410554e-04 2.9694760e-02]\n",
            " [1.7052591e-03 9.5425436e-05 6.1158877e-02 ... 1.0810067e-03\n",
            "  5.2494032e-04 9.3464518e-01]]\n"
          ]
        }
      ],
      "source": [
        "print(model.predict(data_test))"
      ]
    },
    {
      "cell_type": "code",
      "execution_count": null,
      "metadata": {
        "id": "394-ulkdNn7M"
      },
      "outputs": [],
      "source": [
        "from tensorflow.keras.models import load_model\n",
        "model2= load_model(\"emotion_detection.h5\")\n",
        "model2.load_weights(\"model_weight.h5\")"
      ]
    },
    {
      "cell_type": "code",
      "execution_count": null,
      "metadata": {
        "colab": {
          "base_uri": "https://localhost:8080/"
        },
        "id": "4eho9MPdN95k",
        "outputId": "c1e45458-834a-41a1-f0be-e469ab8e674b"
      },
      "outputs": [
        {
          "name": "stdout",
          "output_type": "stream",
          "text": [
            "[[2.38914117e-01 7.92911742e-03 1.96438566e-01 ... 2.48700008e-01\n",
            "  2.69697338e-01 2.87960004e-02]\n",
            " [7.27850914e-01 3.18522677e-02 6.74384162e-02 ... 3.91881950e-02\n",
            "  1.19564682e-01 2.10044067e-03]\n",
            " [3.67521763e-01 2.58150212e-02 8.94349366e-02 ... 1.35387510e-01\n",
            "  3.60365659e-01 1.81477761e-03]\n",
            " ...\n",
            " [2.76475421e-05 7.71467569e-07 1.76561798e-03 ... 4.65808298e-05\n",
            "  3.35368190e-06 9.98038232e-01]\n",
            " [6.32866565e-03 5.55694161e-04 1.85480230e-02 ... 1.00292580e-03\n",
            "  1.31173711e-03 1.01330787e-01]\n",
            " [5.37577434e-04 1.08046015e-05 1.03356075e-02 ... 9.73076530e-05\n",
            "  1.86240613e-05 9.88698304e-01]]\n"
          ]
        }
      ],
      "source": [
        "print(model2.predict(data_test))"
      ]
    }
  ],
  "metadata": {
    "accelerator": "GPU",
    "colab": {
      "collapsed_sections": [],
      "name": "Untitled3.ipynb",
      "provenance": []
    },
    "kernelspec": {
      "display_name": "Python 3",
      "name": "python3"
    },
    "language_info": {
      "name": "python"
    }
  },
  "nbformat": 4,
  "nbformat_minor": 0
}
