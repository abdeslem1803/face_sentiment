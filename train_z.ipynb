{
  "nbformat": 4,
  "nbformat_minor": 0,
  "metadata": {
    "colab": {
      "name": "train_z.ipynb",
      "provenance": [],
      "collapsed_sections": []
    },
    "kernelspec": {
      "name": "python3",
      "display_name": "Python 3"
    },
    "language_info": {
      "name": "python"
    },
    "accelerator": "GPU"
  },
  "cells": [
    {
      "cell_type": "code",
      "metadata": {
        "colab": {
          "base_uri": "https://localhost:8080/"
        },
        "id": "shI_9hh5O2y8",
        "outputId": "d69373f7-54dc-4c64-81d1-b4a947b9c913"
      },
      "source": [
        "!wget -O face_emotion.zip \"https://filesender.renater.fr/download.php?token=1399b9ee-9f53-4f8a-b921-d212325f06a4&files_ids=10167290\" facemask\n"
      ],
      "execution_count": 1,
      "outputs": [
        {
          "output_type": "stream",
          "name": "stdout",
          "text": [
            "--2021-12-02 11:53:25--  https://filesender.renater.fr/download.php?token=1399b9ee-9f53-4f8a-b921-d212325f06a4&files_ids=10167290\n",
            "Resolving filesender.renater.fr (filesender.renater.fr)... 194.57.3.10\n",
            "Connecting to filesender.renater.fr (filesender.renater.fr)|194.57.3.10|:443... connected.\n",
            "HTTP request sent, awaiting response... 200 OK\n",
            "Length: 80330117 (77M) [application/zip]\n",
            "Saving to: ‘face_emotion.zip’\n",
            "\n",
            "face_emotion.zip    100%[===================>]  76.61M   252KB/s    in 5m 16s  \n",
            "\n",
            "2021-12-02 11:58:44 (248 KB/s) - ‘face_emotion.zip’ saved [80330117/80330117]\n",
            "\n",
            "--2021-12-02 11:58:44--  http://facemask/\n",
            "Resolving facemask (facemask)... failed: Name or service not known.\n",
            "wget: unable to resolve host address ‘facemask’\n",
            "FINISHED --2021-12-02 11:58:44--\n",
            "Total wall clock time: 5m 19s\n",
            "Downloaded: 1 files, 77M in 5m 16s (248 KB/s)\n"
          ]
        }
      ]
    },
    {
      "cell_type": "code",
      "metadata": {
        "id": "SXTSABuHSElB"
      },
      "source": [
        "!unzip -q face_emotion.zip -d image_emotion"
      ],
      "execution_count": 2,
      "outputs": []
    },
    {
      "cell_type": "code",
      "metadata": {
        "id": "QCKm_x-BZTmj"
      },
      "source": [
        "picture_size = 48"
      ],
      "execution_count": 3,
      "outputs": []
    },
    {
      "cell_type": "code",
      "metadata": {
        "id": "G1e0dLJSVvpy"
      },
      "source": [
        "import os\n",
        "from keras.preprocessing.image import load_img, img_to_array\n",
        "from tensorflow.keras.applications.mobilenet_v2 import preprocess_input\n",
        "import numpy as np\n",
        "dataset_Foldre=\"image_emotion/image_emotion/train\"\n",
        "dataset_Classes = [\"angry\",\"disgust\",\"fear\",\"happy\",\"neutral\",\"sad\",\"surprise\"]\n",
        "data = []\n",
        "labels = []\n",
        "for folder in dataset_Classes:\n",
        "    path = os.path.join(dataset_Foldre,folder)\n",
        "    category_num = dataset_Classes.index(folder)\n",
        "    for image_name in os.listdir(path):\n",
        "        image_path = os.path.join(path,image_name)\n",
        "        image = load_img(image_path, target_size=(picture_size, picture_size),color_mode=\"grayscale\")\n",
        "        image = img_to_array(image)\n",
        "        image = preprocess_input(image)\n",
        "        data.append(image)\n",
        "        labels.append(category_num)        \n",
        "\n",
        "data_train = np.array(data, dtype=\"float32\")\n",
        "labels_train = np.array(labels)\n",
        "dataset_Foldre=\"image_emotion/image_emotion/test\"\n",
        "data = []\n",
        "labels = []\n",
        "for folder in dataset_Classes:\n",
        "    path = os.path.join(dataset_Foldre,folder)\n",
        "    category_num = dataset_Classes.index(folder)\n",
        "    for image_name in os.listdir(path):\n",
        "        image_path = os.path.join(path,image_name)\n",
        "        image = load_img(image_path, target_size=(picture_size, picture_size),color_mode=\"grayscale\")\n",
        "        image = img_to_array(image)\n",
        "        image = preprocess_input(image)\n",
        "        data.append(image)\n",
        "        labels.append(category_num)        \n",
        "\n",
        "data_test = np.array(data, dtype=\"float32\")\n",
        "labels_test = np.array(labels)\n",
        "        "
      ],
      "execution_count": 4,
      "outputs": []
    },
    {
      "cell_type": "code",
      "metadata": {
        "id": "9jQU-EnRgZiK"
      },
      "source": [
        "from keras import models\n",
        "from keras.layers import Activation, Conv2D, MaxPooling2D, Dense, Flatten, Dropout, BatchNormalization\n",
        "from tensorflow.keras.optimizers import RMSprop,Adam\n",
        "from tensorflow.keras import Sequential"
      ],
      "execution_count": 5,
      "outputs": []
    },
    {
      "cell_type": "code",
      "metadata": {
        "id": "7NBlPcV6SKQ8"
      },
      "source": [
        "from keras.callbacks import ModelCheckpoint, EarlyStopping, ReduceLROnPlateau\n",
        "\n",
        "checkpoint = ModelCheckpoint(\"model.h5\", monitor='val_acc', verbose=1, save_best_only=True, mode='max')\n",
        "\n",
        "early_stopping = EarlyStopping(monitor='val_loss',\n",
        "                          min_delta=0,\n",
        "                          patience=3,\n",
        "                          verbose=1,\n",
        "                          restore_best_weights=True\n",
        "                          )\n",
        "\n",
        "reduce_learningrate = ReduceLROnPlateau(monitor='val_loss',\n",
        "                              factor=0.2,\n",
        "                              patience=3,\n",
        "                              verbose=1,\n",
        "                              min_delta=0.0001)\n",
        "\n",
        "callbacks_list = [early_stopping,checkpoint,reduce_learningrate]\n",
        "\n",
        "epochs = 48\n"
      ],
      "execution_count": 6,
      "outputs": []
    },
    {
      "cell_type": "code",
      "metadata": {
        "id": "d3Rc72_PnDH2",
        "colab": {
          "base_uri": "https://localhost:8080/"
        },
        "outputId": "b39a29a8-87c9-49d6-ec78-31adef493772"
      },
      "source": [
        "model = Sequential()\n",
        "\n",
        "model.add(Conv2D(32,(3,3),padding='same',kernel_initializer='he_normal',input_shape=(48,48,1)))\n",
        "model.add(Activation('relu'))\n",
        "model.add(BatchNormalization())\n",
        "model.add(Conv2D(32,(3,3),padding='same',kernel_initializer='he_normal',input_shape=(48,48,1)))\n",
        "model.add(Activation('relu'))\n",
        "model.add(BatchNormalization())\n",
        "model.add(MaxPooling2D(pool_size=(2,2)))\n",
        "model.add(Dropout(0.2))\n",
        "\n",
        "model.add(Conv2D(64,(3,3),padding='same',kernel_initializer='he_normal'))\n",
        "model.add(Activation('sigmoid'))\n",
        "model.add(BatchNormalization())\n",
        "model.add(Conv2D(64,(3,3),padding='same',kernel_initializer='he_normal'))\n",
        "model.add(Activation('sigmoid'))\n",
        "model.add(BatchNormalization())\n",
        "model.add(MaxPooling2D(pool_size=(2,2)))\n",
        "model.add(Dropout(0.2))\n",
        "\n",
        "model.add(Conv2D(128,(3,3),padding='same',kernel_initializer='he_normal'))\n",
        "model.add(Activation('relu'))\n",
        "model.add(BatchNormalization())\n",
        "model.add(Conv2D(128,(3,3),padding='same',kernel_initializer='he_normal'))\n",
        "model.add(Activation('relu'))\n",
        "model.add(BatchNormalization())\n",
        "model.add(MaxPooling2D(pool_size=(2,2)))\n",
        "model.add(Dropout(0.2))\n",
        "\n",
        "\n",
        "model.add(Conv2D(512,(3,3),padding='same',kernel_initializer='he_normal'))\n",
        "model.add(Activation('relu'))\n",
        "model.add(BatchNormalization())\n",
        "model.add(Conv2D(512,(3,3),padding='same',kernel_initializer='he_normal'))\n",
        "model.add(Activation('relu'))\n",
        "model.add(BatchNormalization())\n",
        "model.add(MaxPooling2D(pool_size=(2,2)))\n",
        "model.add(Dropout(0.2))\n",
        "\n",
        "\n",
        "model.add(Flatten())\n",
        "model.add(Dense(64,kernel_initializer='he_normal'))\n",
        "model.add(Activation('relu'))\n",
        "model.add(BatchNormalization())\n",
        "model.add(Dropout(0.5))\n",
        "\n",
        "\n",
        "model.add(Dense(64,kernel_initializer='he_normal'))\n",
        "model.add(Activation('relu'))\n",
        "model.add(BatchNormalization())\n",
        "model.add(Dropout(0.5))\n",
        "\n",
        "\n",
        "model.add(Dense(7,kernel_initializer='he_normal'))\n",
        "model.add(Activation('softmax'))\n",
        "\n",
        "model.summary()\n"
      ],
      "execution_count": 16,
      "outputs": [
        {
          "output_type": "stream",
          "name": "stdout",
          "text": [
            "Model: \"sequential_1\"\n",
            "_________________________________________________________________\n",
            " Layer (type)                Output Shape              Param #   \n",
            "=================================================================\n",
            " conv2d_8 (Conv2D)           (None, 48, 48, 32)        320       \n",
            "                                                                 \n",
            " activation_11 (Activation)  (None, 48, 48, 32)        0         \n",
            "                                                                 \n",
            " batch_normalization_10 (Bat  (None, 48, 48, 32)       128       \n",
            " chNormalization)                                                \n",
            "                                                                 \n",
            " conv2d_9 (Conv2D)           (None, 48, 48, 32)        9248      \n",
            "                                                                 \n",
            " activation_12 (Activation)  (None, 48, 48, 32)        0         \n",
            "                                                                 \n",
            " batch_normalization_11 (Bat  (None, 48, 48, 32)       128       \n",
            " chNormalization)                                                \n",
            "                                                                 \n",
            " max_pooling2d_4 (MaxPooling  (None, 24, 24, 32)       0         \n",
            " 2D)                                                             \n",
            "                                                                 \n",
            " dropout_6 (Dropout)         (None, 24, 24, 32)        0         \n",
            "                                                                 \n",
            " conv2d_10 (Conv2D)          (None, 24, 24, 64)        18496     \n",
            "                                                                 \n",
            " activation_13 (Activation)  (None, 24, 24, 64)        0         \n",
            "                                                                 \n",
            " batch_normalization_12 (Bat  (None, 24, 24, 64)       256       \n",
            " chNormalization)                                                \n",
            "                                                                 \n",
            " conv2d_11 (Conv2D)          (None, 24, 24, 64)        36928     \n",
            "                                                                 \n",
            " activation_14 (Activation)  (None, 24, 24, 64)        0         \n",
            "                                                                 \n",
            " batch_normalization_13 (Bat  (None, 24, 24, 64)       256       \n",
            " chNormalization)                                                \n",
            "                                                                 \n",
            " max_pooling2d_5 (MaxPooling  (None, 12, 12, 64)       0         \n",
            " 2D)                                                             \n",
            "                                                                 \n",
            " dropout_7 (Dropout)         (None, 12, 12, 64)        0         \n",
            "                                                                 \n",
            " conv2d_12 (Conv2D)          (None, 12, 12, 128)       73856     \n",
            "                                                                 \n",
            " activation_15 (Activation)  (None, 12, 12, 128)       0         \n",
            "                                                                 \n",
            " batch_normalization_14 (Bat  (None, 12, 12, 128)      512       \n",
            " chNormalization)                                                \n",
            "                                                                 \n",
            " conv2d_13 (Conv2D)          (None, 12, 12, 128)       147584    \n",
            "                                                                 \n",
            " activation_16 (Activation)  (None, 12, 12, 128)       0         \n",
            "                                                                 \n",
            " batch_normalization_15 (Bat  (None, 12, 12, 128)      512       \n",
            " chNormalization)                                                \n",
            "                                                                 \n",
            " max_pooling2d_6 (MaxPooling  (None, 6, 6, 128)        0         \n",
            " 2D)                                                             \n",
            "                                                                 \n",
            " dropout_8 (Dropout)         (None, 6, 6, 128)         0         \n",
            "                                                                 \n",
            " conv2d_14 (Conv2D)          (None, 6, 6, 512)         590336    \n",
            "                                                                 \n",
            " activation_17 (Activation)  (None, 6, 6, 512)         0         \n",
            "                                                                 \n",
            " batch_normalization_16 (Bat  (None, 6, 6, 512)        2048      \n",
            " chNormalization)                                                \n",
            "                                                                 \n",
            " conv2d_15 (Conv2D)          (None, 6, 6, 512)         2359808   \n",
            "                                                                 \n",
            " activation_18 (Activation)  (None, 6, 6, 512)         0         \n",
            "                                                                 \n",
            " batch_normalization_17 (Bat  (None, 6, 6, 512)        2048      \n",
            " chNormalization)                                                \n",
            "                                                                 \n",
            " max_pooling2d_7 (MaxPooling  (None, 3, 3, 512)        0         \n",
            " 2D)                                                             \n",
            "                                                                 \n",
            " dropout_9 (Dropout)         (None, 3, 3, 512)         0         \n",
            "                                                                 \n",
            " flatten_1 (Flatten)         (None, 4608)              0         \n",
            "                                                                 \n",
            " dense_3 (Dense)             (None, 64)                294976    \n",
            "                                                                 \n",
            " activation_19 (Activation)  (None, 64)                0         \n",
            "                                                                 \n",
            " batch_normalization_18 (Bat  (None, 64)               256       \n",
            " chNormalization)                                                \n",
            "                                                                 \n",
            " dropout_10 (Dropout)        (None, 64)                0         \n",
            "                                                                 \n",
            " dense_4 (Dense)             (None, 64)                4160      \n",
            "                                                                 \n",
            " activation_20 (Activation)  (None, 64)                0         \n",
            "                                                                 \n",
            " batch_normalization_19 (Bat  (None, 64)               256       \n",
            " chNormalization)                                                \n",
            "                                                                 \n",
            " dropout_11 (Dropout)        (None, 64)                0         \n",
            "                                                                 \n",
            " dense_5 (Dense)             (None, 7)                 455       \n",
            "                                                                 \n",
            " activation_21 (Activation)  (None, 7)                 0         \n",
            "                                                                 \n",
            "=================================================================\n",
            "Total params: 3,542,567\n",
            "Trainable params: 3,539,367\n",
            "Non-trainable params: 3,200\n",
            "_________________________________________________________________\n"
          ]
        }
      ]
    },
    {
      "cell_type": "code",
      "metadata": {
        "colab": {
          "base_uri": "https://localhost:8080/"
        },
        "id": "aM0GcOgfphGR",
        "outputId": "647298eb-4edc-4d50-c29b-e97b7a82cbd5"
      },
      "source": [
        "model.compile(optimizer=Adam(lr=1e-3), loss='sparse_categorical_crossentropy', metrics=['accuracy'])"
      ],
      "execution_count": 17,
      "outputs": [
        {
          "output_type": "stream",
          "name": "stderr",
          "text": [
            "/usr/local/lib/python3.7/dist-packages/keras/optimizer_v2/adam.py:105: UserWarning: The `lr` argument is deprecated, use `learning_rate` instead.\n",
            "  super(Adam, self).__init__(name, **kwargs)\n"
          ]
        }
      ]
    },
    {
      "cell_type": "code",
      "metadata": {
        "id": "AId21hkrkta8"
      },
      "source": [
        "\"\"\"batch_size = 128\n",
        "data_size = data_train.shape[0]\n",
        "model = Sequential()\n",
        "model.add(Conv2D(32, (3, 3), activation='relu', input_shape=(48, 48, 1)))\n",
        "model.add(MaxPool2D((2, 2)))\n",
        "model.add(Conv2D(64, (3, 3), activation='relu'))\n",
        "model.add(MaxPool2D((2, 2)))\n",
        "model.add(Conv2D(64, (3, 3), activation='relu'))\n",
        "model.add(MaxPool2D((2, 2)))\n",
        "model.add(Conv2D(64, (3, 3), activation='relu'))\n",
        "model.add(MaxPool2D((2, 2)))\n",
        "model.add(Flatten())\n",
        "model.add(Dense(64, activation='relu'))\n",
        "model.add(Flatten())\n",
        "model.add(Dense(64, activation='relu'))\n",
        "model.add(Dense(7, activation='softmax'))\n",
        "model.compile(optimizer=Adam(lr=1e-3), loss='sparse_categorical_crossentropy', metrics=['accuracy'])\n",
        "model.summary()\"\"\""
      ],
      "execution_count": null,
      "outputs": []
    },
    {
      "cell_type": "code",
      "metadata": {
        "colab": {
          "base_uri": "https://localhost:8080/"
        },
        "id": "c5FfkU7kysdR",
        "outputId": "9b4cd74d-422d-4e2a-ef54-0243de36f6d5"
      },
      "source": [
        "history = model.fit(data_train, labels_train,shuffle=True,\n",
        "                    validation_data=(data_test, labels_test),\n",
        "                    epochs=50,\n",
        "                    batch_size=64,callbacks=callbacks_list)"
      ],
      "execution_count": 18,
      "outputs": [
        {
          "output_type": "stream",
          "name": "stdout",
          "text": [
            "Epoch 1/50\n",
            "449/449 [==============================] - ETA: 0s - loss: 2.2316 - accuracy: 0.2265WARNING:tensorflow:Can save best model only with val_acc available, skipping.\n",
            "449/449 [==============================] - 33s 67ms/step - loss: 2.2316 - accuracy: 0.2265 - val_loss: 1.6259 - val_accuracy: 0.3649 - lr: 0.0010\n",
            "Epoch 2/50\n",
            "448/449 [============================>.] - ETA: 0s - loss: 1.6695 - accuracy: 0.3587WARNING:tensorflow:Can save best model only with val_acc available, skipping.\n",
            "449/449 [==============================] - 30s 66ms/step - loss: 1.6696 - accuracy: 0.3587 - val_loss: 1.4429 - val_accuracy: 0.4393 - lr: 0.0010\n",
            "Epoch 3/50\n",
            "448/449 [============================>.] - ETA: 0s - loss: 1.4601 - accuracy: 0.4327WARNING:tensorflow:Can save best model only with val_acc available, skipping.\n",
            "449/449 [==============================] - 30s 66ms/step - loss: 1.4597 - accuracy: 0.4327 - val_loss: 1.3031 - val_accuracy: 0.4908 - lr: 0.0010\n",
            "Epoch 4/50\n",
            "448/449 [============================>.] - ETA: 0s - loss: 1.3588 - accuracy: 0.4797WARNING:tensorflow:Can save best model only with val_acc available, skipping.\n",
            "449/449 [==============================] - 30s 67ms/step - loss: 1.3588 - accuracy: 0.4798 - val_loss: 1.2680 - val_accuracy: 0.5164 - lr: 0.0010\n",
            "Epoch 5/50\n",
            "448/449 [============================>.] - ETA: 0s - loss: 1.2907 - accuracy: 0.5094WARNING:tensorflow:Can save best model only with val_acc available, skipping.\n",
            "449/449 [==============================] - 30s 66ms/step - loss: 1.2913 - accuracy: 0.5092 - val_loss: 1.2031 - val_accuracy: 0.5358 - lr: 0.0010\n",
            "Epoch 6/50\n",
            "448/449 [============================>.] - ETA: 0s - loss: 1.2345 - accuracy: 0.5382WARNING:tensorflow:Can save best model only with val_acc available, skipping.\n",
            "449/449 [==============================] - 30s 66ms/step - loss: 1.2344 - accuracy: 0.5383 - val_loss: 1.1490 - val_accuracy: 0.5598 - lr: 0.0010\n",
            "Epoch 7/50\n",
            "448/449 [============================>.] - ETA: 0s - loss: 1.1871 - accuracy: 0.5604WARNING:tensorflow:Can save best model only with val_acc available, skipping.\n",
            "449/449 [==============================] - 30s 66ms/step - loss: 1.1870 - accuracy: 0.5603 - val_loss: 1.1441 - val_accuracy: 0.5610 - lr: 0.0010\n",
            "Epoch 8/50\n",
            "448/449 [============================>.] - ETA: 0s - loss: 1.1449 - accuracy: 0.5767WARNING:tensorflow:Can save best model only with val_acc available, skipping.\n",
            "449/449 [==============================] - 30s 66ms/step - loss: 1.1449 - accuracy: 0.5768 - val_loss: 1.0999 - val_accuracy: 0.5892 - lr: 0.0010\n",
            "Epoch 9/50\n",
            "448/449 [============================>.] - ETA: 0s - loss: 1.0998 - accuracy: 0.5986WARNING:tensorflow:Can save best model only with val_acc available, skipping.\n",
            "449/449 [==============================] - 30s 67ms/step - loss: 1.1001 - accuracy: 0.5985 - val_loss: 1.0841 - val_accuracy: 0.5953 - lr: 0.0010\n",
            "Epoch 10/50\n",
            "448/449 [============================>.] - ETA: 0s - loss: 1.0491 - accuracy: 0.6183WARNING:tensorflow:Can save best model only with val_acc available, skipping.\n",
            "449/449 [==============================] - 30s 67ms/step - loss: 1.0490 - accuracy: 0.6183 - val_loss: 1.0739 - val_accuracy: 0.5919 - lr: 0.0010\n",
            "Epoch 11/50\n",
            "448/449 [============================>.] - ETA: 0s - loss: 0.9906 - accuracy: 0.6386WARNING:tensorflow:Can save best model only with val_acc available, skipping.\n",
            "449/449 [==============================] - 30s 66ms/step - loss: 0.9904 - accuracy: 0.6386 - val_loss: 1.0653 - val_accuracy: 0.6042 - lr: 0.0010\n",
            "Epoch 12/50\n",
            "448/449 [============================>.] - ETA: 0s - loss: 0.9398 - accuracy: 0.6604WARNING:tensorflow:Can save best model only with val_acc available, skipping.\n",
            "449/449 [==============================] - 30s 66ms/step - loss: 0.9396 - accuracy: 0.6604 - val_loss: 1.0903 - val_accuracy: 0.6089 - lr: 0.0010\n",
            "Epoch 13/50\n",
            "448/449 [============================>.] - ETA: 0s - loss: 0.8705 - accuracy: 0.6902WARNING:tensorflow:Can save best model only with val_acc available, skipping.\n",
            "449/449 [==============================] - 29s 65ms/step - loss: 0.8703 - accuracy: 0.6902 - val_loss: 1.0555 - val_accuracy: 0.6198 - lr: 0.0010\n",
            "Epoch 14/50\n",
            "448/449 [============================>.] - ETA: 0s - loss: 0.8047 - accuracy: 0.7152WARNING:tensorflow:Can save best model only with val_acc available, skipping.\n",
            "449/449 [==============================] - 29s 65ms/step - loss: 0.8046 - accuracy: 0.7152 - val_loss: 1.0730 - val_accuracy: 0.6155 - lr: 0.0010\n",
            "Epoch 15/50\n",
            "448/449 [============================>.] - ETA: 0s - loss: 0.7442 - accuracy: 0.7394WARNING:tensorflow:Can save best model only with val_acc available, skipping.\n",
            "449/449 [==============================] - 29s 65ms/step - loss: 0.7442 - accuracy: 0.7393 - val_loss: 1.2164 - val_accuracy: 0.6049 - lr: 0.0010\n",
            "Epoch 16/50\n",
            "448/449 [============================>.] - ETA: 0s - loss: 0.6755 - accuracy: 0.7674Restoring model weights from the end of the best epoch: 13.\n",
            "WARNING:tensorflow:Can save best model only with val_acc available, skipping.\n",
            "\n",
            "Epoch 00016: ReduceLROnPlateau reducing learning rate to 0.00020000000949949026.\n",
            "449/449 [==============================] - 29s 65ms/step - loss: 0.6760 - accuracy: 0.7673 - val_loss: 1.1782 - val_accuracy: 0.6170 - lr: 0.0010\n",
            "Epoch 00016: early stopping\n"
          ]
        }
      ]
    },
    {
      "cell_type": "code",
      "metadata": {
        "colab": {
          "base_uri": "https://localhost:8080/",
          "height": 350
        },
        "id": "UIQ29EmxfhBF",
        "outputId": "7b764dcf-2a59-47ce-de52-ac6070ad6be9"
      },
      "source": [
        "import matplotlib.pyplot as plt\n",
        "\n",
        "fig , ax = plt.subplots(1,2)\n",
        "train_accuracy = history.history['accuracy']\n",
        "train_loss = history.history['loss']\n",
        "fig.set_size_inches(10,5)\n",
        "\n",
        "ax[0].plot(history.history['accuracy'])\n",
        "ax[0].plot(history.history['val_accuracy'])\n",
        "ax[0].set_title('Training Accuracy vs Validation Accuracy')\n",
        "ax[0].set_ylabel('Accuracy')\n",
        "ax[0].set_xlabel('Epochs')\n",
        "ax[0].legend(['Train', 'Validation'], loc='best')\n",
        "\n",
        "ax[1].plot(history.history['loss'])\n",
        "ax[1].plot(history.history['val_loss'])\n",
        "ax[1].set_title('Training Loss vs Validation Loss')\n",
        "ax[1].set_ylabel('Loss')\n",
        "ax[1].set_xlabel('Epochs')\n",
        "ax[1].legend(['Train', 'Validation'], loc='best')\n",
        "\n",
        "plt.show()"
      ],
      "execution_count": 10,
      "outputs": [
        {
          "output_type": "display_data",
          "data": {
            "image/png": "[encoded data removed]",
            "text/plain": [
              "<Figure size 720x360 with 2 Axes>"
            ]
          },
          "metadata": {
            "needs_background": "light"
          }
        }
      ]
    },
    {
      "cell_type": "code",
      "metadata": {
        "id": "-U8LW1qfzYum"
      },
      "source": [
        "model.save('emotion_detection.h5')\n",
        "model.save_weights('model_weight.h5')\n",
        "np.save(\"history\", history.history)"
      ],
      "execution_count": 11,
      "outputs": []
    },
    {
      "cell_type": "code",
      "metadata": {
        "colab": {
          "base_uri": "https://localhost:8080/"
        },
        "id": "yyo-SwiVNES7",
        "outputId": "da32f83f-70c0-4dc0-e4c1-aba789473654"
      },
      "source": [
        "type(data_test)"
      ],
      "execution_count": 12,
      "outputs": [
        {
          "output_type": "execute_result",
          "data": {
            "text/plain": [
              "numpy.ndarray"
            ]
          },
          "metadata": {},
          "execution_count": 12
        }
      ]
    },
    {
      "cell_type": "code",
      "metadata": {
        "id": "XE3Sw5c1ybCX",
        "colab": {
          "base_uri": "https://localhost:8080/"
        },
        "outputId": "3f64bc2d-c112-4faa-e208-cb66dd6120f1"
      },
      "source": [
        "print(model.predict(data_test))"
      ],
      "execution_count": 13,
      "outputs": [
        {
          "output_type": "stream",
          "name": "stdout",
          "text": [
            "[[4.26356524e-01 2.14164220e-02 4.72941734e-02 ... 3.03513587e-01\n",
            "  1.09290637e-01 8.62627476e-03]\n",
            " [6.68183684e-01 1.09028846e-01 9.01418477e-02 ... 3.15806381e-02\n",
            "  9.14292112e-02 2.01092125e-03]\n",
            " [6.69342339e-01 8.94341897e-03 5.71644269e-02 ... 1.18578583e-01\n",
            "  1.43277004e-01 1.39981136e-03]\n",
            " ...\n",
            " [7.44239369e-05 6.08414268e-07 3.07249930e-03 ... 2.42984333e-05\n",
            "  3.92835818e-06 9.96686280e-01]\n",
            " [7.55101966e-04 1.29955060e-05 8.36197753e-03 ... 4.06466424e-04\n",
            "  4.79652845e-05 9.88574028e-01]\n",
            " [1.52154861e-03 2.95471564e-05 2.39965282e-02 ... 3.87601904e-04\n",
            "  1.28801039e-04 9.69767153e-01]]\n"
          ]
        }
      ]
    },
    {
      "cell_type": "code",
      "metadata": {
        "id": "394-ulkdNn7M"
      },
      "source": [
        "from tensorflow.keras.models import load_model\n",
        "model2= load_model(\"emotion_detection.h5\")\n",
        "model2.load_weights(\"model_weight.h5\")"
      ],
      "execution_count": 14,
      "outputs": []
    },
    {
      "cell_type": "code",
      "metadata": {
        "colab": {
          "base_uri": "https://localhost:8080/"
        },
        "id": "4eho9MPdN95k",
        "outputId": "4cb2af2e-cf5a-4887-f092-043bc41ab356"
      },
      "source": [
        "print(model2.predict(data_test))"
      ],
      "execution_count": 15,
      "outputs": [
        {
          "output_type": "stream",
          "name": "stdout",
          "text": [
            "[[4.26356524e-01 2.14164220e-02 4.72941734e-02 ... 3.03513587e-01\n",
            "  1.09290637e-01 8.62627476e-03]\n",
            " [6.68183684e-01 1.09028846e-01 9.01418477e-02 ... 3.15806381e-02\n",
            "  9.14292112e-02 2.01092125e-03]\n",
            " [6.69342339e-01 8.94341897e-03 5.71644269e-02 ... 1.18578583e-01\n",
            "  1.43277004e-01 1.39981136e-03]\n",
            " ...\n",
            " [7.44239369e-05 6.08414268e-07 3.07249930e-03 ... 2.42984333e-05\n",
            "  3.92835818e-06 9.96686280e-01]\n",
            " [7.55101966e-04 1.29955060e-05 8.36197753e-03 ... 4.06466424e-04\n",
            "  4.79652845e-05 9.88574028e-01]\n",
            " [1.52154861e-03 2.95471564e-05 2.39965282e-02 ... 3.87601904e-04\n",
            "  1.28801039e-04 9.69767153e-01]]\n"
          ]
        }
      ]
    }
  ]
}