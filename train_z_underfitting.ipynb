{
  "nbformat": 4,
  "nbformat_minor": 0,
  "metadata": {
    "colab": {
      "name": "train_z_underfitting.ipynb",
      "provenance": [],
      "collapsed_sections": []
    },
    "kernelspec": {
      "name": "python3",
      "display_name": "Python 3"
    },
    "language_info": {
      "name": "python"
    },
    "accelerator": "GPU"
  },
  "cells": [
    {
      "cell_type": "code",
      "metadata": {
        "colab": {
          "base_uri": "https://localhost:8080/"
        },
        "id": "shI_9hh5O2y8",
        "outputId": "d69373f7-54dc-4c64-81d1-b4a947b9c913"
      },
      "source": [
        "!wget -O face_emotion.zip \"https://filesender.renater.fr/download.php?token=1399b9ee-9f53-4f8a-b921-d212325f06a4&files_ids=10167290\" facemask\n"
      ],
      "execution_count": 1,
      "outputs": [
        {
          "output_type": "stream",
          "name": "stdout",
          "text": [
            "--2021-12-02 11:53:25--  https://filesender.renater.fr/download.php?token=1399b9ee-9f53-4f8a-b921-d212325f06a4&files_ids=10167290\n",
            "Resolving filesender.renater.fr (filesender.renater.fr)... 194.57.3.10\n",
            "Connecting to filesender.renater.fr (filesender.renater.fr)|194.57.3.10|:443... connected.\n",
            "HTTP request sent, awaiting response... 200 OK\n",
            "Length: 80330117 (77M) [application/zip]\n",
            "Saving to: ‘face_emotion.zip’\n",
            "\n",
            "face_emotion.zip    100%[===================>]  76.61M   252KB/s    in 5m 16s  \n",
            "\n",
            "2021-12-02 11:58:44 (248 KB/s) - ‘face_emotion.zip’ saved [80330117/80330117]\n",
            "\n",
            "--2021-12-02 11:58:44--  http://facemask/\n",
            "Resolving facemask (facemask)... failed: Name or service not known.\n",
            "wget: unable to resolve host address ‘facemask’\n",
            "FINISHED --2021-12-02 11:58:44--\n",
            "Total wall clock time: 5m 19s\n",
            "Downloaded: 1 files, 77M in 5m 16s (248 KB/s)\n"
          ]
        }
      ]
    },
    {
      "cell_type": "code",
      "metadata": {
        "id": "SXTSABuHSElB"
      },
      "source": [
        "!unzip -q face_emotion.zip -d image_emotion"
      ],
      "execution_count": 2,
      "outputs": []
    },
    {
      "cell_type": "code",
      "metadata": {
        "id": "QCKm_x-BZTmj"
      },
      "source": [
        "picture_size = 48"
      ],
      "execution_count": 3,
      "outputs": []
    },
    {
      "cell_type": "code",
      "metadata": {
        "id": "G1e0dLJSVvpy"
      },
      "source": [
        "import os\n",
        "from keras.preprocessing.image import load_img, img_to_array\n",
        "from tensorflow.keras.applications.mobilenet_v2 import preprocess_input\n",
        "import numpy as np\n",
        "dataset_Foldre=\"image_emotion/image_emotion/train\"\n",
        "dataset_Classes = [\"angry\",\"disgust\",\"fear\",\"happy\",\"neutral\",\"sad\",\"surprise\"]\n",
        "data = []\n",
        "labels = []\n",
        "for folder in dataset_Classes:\n",
        "    path = os.path.join(dataset_Foldre,folder)\n",
        "    category_num = dataset_Classes.index(folder)\n",
        "    for image_name in os.listdir(path):\n",
        "        image_path = os.path.join(path,image_name)\n",
        "        image = load_img(image_path, target_size=(picture_size, picture_size),color_mode=\"grayscale\")\n",
        "        image = img_to_array(image)\n",
        "        image = preprocess_input(image)\n",
        "        data.append(image)\n",
        "        labels.append(category_num)        \n",
        "\n",
        "data_train = np.array(data, dtype=\"float32\")\n",
        "labels_train = np.array(labels)\n",
        "dataset_Foldre=\"image_emotion/image_emotion/test\"\n",
        "data = []\n",
        "labels = []\n",
        "for folder in dataset_Classes:\n",
        "    path = os.path.join(dataset_Foldre,folder)\n",
        "    category_num = dataset_Classes.index(folder)\n",
        "    for image_name in os.listdir(path):\n",
        "        image_path = os.path.join(path,image_name)\n",
        "        image = load_img(image_path, target_size=(picture_size, picture_size),color_mode=\"grayscale\")\n",
        "        image = img_to_array(image)\n",
        "        image = preprocess_input(image)\n",
        "        data.append(image)\n",
        "        labels.append(category_num)        \n",
        "\n",
        "data_test = np.array(data, dtype=\"float32\")\n",
        "labels_test = np.array(labels)\n",
        "        "
      ],
      "execution_count": 4,
      "outputs": []
    },
    {
      "cell_type": "code",
      "metadata": {
        "id": "9jQU-EnRgZiK"
      },
      "source": [
        "from keras import models\n",
        "from keras.layers import Activation, Conv2D, MaxPooling2D, Dense, Flatten, Dropout, BatchNormalization\n",
        "from tensorflow.keras.optimizers import RMSprop,Adam\n",
        "from tensorflow.keras import Sequential"
      ],
      "execution_count": 5,
      "outputs": []
    },
    {
      "cell_type": "code",
      "metadata": {
        "id": "7NBlPcV6SKQ8"
      },
      "source": [
        "from keras.callbacks import ModelCheckpoint, EarlyStopping, ReduceLROnPlateau\n",
        "\n",
        "checkpoint = ModelCheckpoint(\"model3.h5\", monitor='val_acc', verbose=1, save_best_only=True, mode='max')\n",
        "\n",
        "early_stopping = EarlyStopping(monitor='val_loss',\n",
        "                          min_delta=0,\n",
        "                          patience=7,\n",
        "                          verbose=1,\n",
        "                          restore_best_weights=True\n",
        "                          )\n",
        "\n",
        "reduce_learningrate = ReduceLROnPlateau(monitor='val_loss',\n",
        "                              factor=0.2,\n",
        "                              patience=3,\n",
        "                              verbose=1,\n",
        "                              min_delta=0.0001)\n",
        "\n",
        "callbacks_list = [early_stopping,checkpoint,reduce_learningrate]\n",
        "\n",
        "epochs = 48\n"
      ],
      "execution_count": 36,
      "outputs": []
    },
    {
      "cell_type": "code",
      "metadata": {
        "id": "d3Rc72_PnDH2",
        "colab": {
          "base_uri": "https://localhost:8080/"
        },
        "outputId": "a3f23cea-51e6-47f9-b4df-e41d43a695f5"
      },
      "source": [
        "model = Sequential()\n",
        "\n",
        "model.add(Conv2D(32,(3,3),padding='same',kernel_initializer='he_normal',input_shape=(48,48,1)))\n",
        "model.add(Activation('relu'))\n",
        "model.add(BatchNormalization())\n",
        "model.add(Conv2D(32,(3,3),padding='same',kernel_initializer='he_normal',input_shape=(48,48,1)))\n",
        "model.add(Activation('relu'))\n",
        "model.add(BatchNormalization())\n",
        "model.add(MaxPooling2D(pool_size=(2,2)))\n",
        "model.add(Dropout(0.2))\n",
        "\n",
        "model.add(Conv2D(128,(3,3),padding='same',kernel_initializer='he_normal'))\n",
        "model.add(Activation('sigmoid'))\n",
        "model.add(BatchNormalization())\n",
        "model.add(Conv2D(128,(3,3),padding='same',kernel_initializer='he_normal'))\n",
        "model.add(Activation('sigmoid'))\n",
        "model.add(BatchNormalization())\n",
        "model.add(MaxPooling2D(pool_size=(2,2)))\n",
        "model.add(Dropout(0.2))\n",
        "\n",
        "model.add(Conv2D(256,(3,3),padding='same',kernel_initializer='he_normal'))\n",
        "model.add(Activation('relu'))\n",
        "model.add(BatchNormalization())\n",
        "model.add(Conv2D(256,(3,3),padding='same',kernel_initializer='he_normal'))\n",
        "model.add(Activation('relu'))\n",
        "model.add(BatchNormalization())\n",
        "model.add(MaxPooling2D(pool_size=(2,2)))\n",
        "model.add(Dropout(0.2))\n",
        "\n",
        "\n",
        "model.add(Conv2D(256,(3,3),padding='same',kernel_initializer='he_normal'))\n",
        "model.add(Activation('relu'))\n",
        "model.add(BatchNormalization())\n",
        "model.add(Conv2D(256,(3,3),padding='same',kernel_initializer='he_normal'))\n",
        "model.add(Activation('relu'))\n",
        "model.add(BatchNormalization())\n",
        "model.add(MaxPooling2D(pool_size=(2,2)))\n",
        "model.add(Dropout(0.2))\n",
        "\n",
        "\n",
        "model.add(Flatten())\n",
        "model.add(Dense(64,kernel_initializer='he_normal'))\n",
        "model.add(Activation('relu'))\n",
        "model.add(BatchNormalization())\n",
        "model.add(Dropout(0.5))\n",
        "\n",
        "\n",
        "model.add(Dense(64,kernel_initializer='he_normal'))\n",
        "model.add(Activation('relu'))\n",
        "model.add(BatchNormalization())\n",
        "model.add(Dropout(0.5))\n",
        "\n",
        "\n",
        "model.add(Dense(7,kernel_initializer='he_normal'))\n",
        "model.add(Activation('softmax'))\n",
        "\n",
        "model.summary()\n"
      ],
      "execution_count": 37,
      "outputs": [
        {
          "output_type": "stream",
          "name": "stdout",
          "text": [
            "Model: \"sequential_8\"\n",
            "_________________________________________________________________\n",
            " Layer (type)                Output Shape              Param #   \n",
            "=================================================================\n",
            " conv2d_51 (Conv2D)          (None, 48, 48, 32)        320       \n",
            "                                                                 \n",
            " activation_70 (Activation)  (None, 48, 48, 32)        0         \n",
            "                                                                 \n",
            " batch_normalization_63 (Bat  (None, 48, 48, 32)       128       \n",
            " chNormalization)                                                \n",
            "                                                                 \n",
            " conv2d_52 (Conv2D)          (None, 48, 48, 32)        9248      \n",
            "                                                                 \n",
            " activation_71 (Activation)  (None, 48, 48, 32)        0         \n",
            "                                                                 \n",
            " batch_normalization_64 (Bat  (None, 48, 48, 32)       128       \n",
            " chNormalization)                                                \n",
            "                                                                 \n",
            " max_pooling2d_26 (MaxPoolin  (None, 24, 24, 32)       0         \n",
            " g2D)                                                            \n",
            "                                                                 \n",
            " dropout_39 (Dropout)        (None, 24, 24, 32)        0         \n",
            "                                                                 \n",
            " conv2d_53 (Conv2D)          (None, 24, 24, 128)       36992     \n",
            "                                                                 \n",
            " activation_72 (Activation)  (None, 24, 24, 128)       0         \n",
            "                                                                 \n",
            " batch_normalization_65 (Bat  (None, 24, 24, 128)      512       \n",
            " chNormalization)                                                \n",
            "                                                                 \n",
            " conv2d_54 (Conv2D)          (None, 24, 24, 128)       147584    \n",
            "                                                                 \n",
            " activation_73 (Activation)  (None, 24, 24, 128)       0         \n",
            "                                                                 \n",
            " batch_normalization_66 (Bat  (None, 24, 24, 128)      512       \n",
            " chNormalization)                                                \n",
            "                                                                 \n",
            " max_pooling2d_27 (MaxPoolin  (None, 12, 12, 128)      0         \n",
            " g2D)                                                            \n",
            "                                                                 \n",
            " dropout_40 (Dropout)        (None, 12, 12, 128)       0         \n",
            "                                                                 \n",
            " conv2d_55 (Conv2D)          (None, 12, 12, 256)       295168    \n",
            "                                                                 \n",
            " activation_74 (Activation)  (None, 12, 12, 256)       0         \n",
            "                                                                 \n",
            " batch_normalization_67 (Bat  (None, 12, 12, 256)      1024      \n",
            " chNormalization)                                                \n",
            "                                                                 \n",
            " conv2d_56 (Conv2D)          (None, 12, 12, 256)       590080    \n",
            "                                                                 \n",
            " activation_75 (Activation)  (None, 12, 12, 256)       0         \n",
            "                                                                 \n",
            " batch_normalization_68 (Bat  (None, 12, 12, 256)      1024      \n",
            " chNormalization)                                                \n",
            "                                                                 \n",
            " max_pooling2d_28 (MaxPoolin  (None, 6, 6, 256)        0         \n",
            " g2D)                                                            \n",
            "                                                                 \n",
            " dropout_41 (Dropout)        (None, 6, 6, 256)         0         \n",
            "                                                                 \n",
            " conv2d_57 (Conv2D)          (None, 6, 6, 256)         590080    \n",
            "                                                                 \n",
            " activation_76 (Activation)  (None, 6, 6, 256)         0         \n",
            "                                                                 \n",
            " batch_normalization_69 (Bat  (None, 6, 6, 256)        1024      \n",
            " chNormalization)                                                \n",
            "                                                                 \n",
            " conv2d_58 (Conv2D)          (None, 6, 6, 256)         590080    \n",
            "                                                                 \n",
            " activation_77 (Activation)  (None, 6, 6, 256)         0         \n",
            "                                                                 \n",
            " batch_normalization_70 (Bat  (None, 6, 6, 256)        1024      \n",
            " chNormalization)                                                \n",
            "                                                                 \n",
            " max_pooling2d_29 (MaxPoolin  (None, 3, 3, 256)        0         \n",
            " g2D)                                                            \n",
            "                                                                 \n",
            " dropout_42 (Dropout)        (None, 3, 3, 256)         0         \n",
            "                                                                 \n",
            " flatten_8 (Flatten)         (None, 2304)              0         \n",
            "                                                                 \n",
            " dense_20 (Dense)            (None, 64)                147520    \n",
            "                                                                 \n",
            " activation_78 (Activation)  (None, 64)                0         \n",
            "                                                                 \n",
            " batch_normalization_71 (Bat  (None, 64)               256       \n",
            " chNormalization)                                                \n",
            "                                                                 \n",
            " dropout_43 (Dropout)        (None, 64)                0         \n",
            "                                                                 \n",
            " dense_21 (Dense)            (None, 64)                4160      \n",
            "                                                                 \n",
            " activation_79 (Activation)  (None, 64)                0         \n",
            "                                                                 \n",
            " batch_normalization_72 (Bat  (None, 64)               256       \n",
            " chNormalization)                                                \n",
            "                                                                 \n",
            " dropout_44 (Dropout)        (None, 64)                0         \n",
            "                                                                 \n",
            " dense_22 (Dense)            (None, 7)                 455       \n",
            "                                                                 \n",
            " activation_80 (Activation)  (None, 7)                 0         \n",
            "                                                                 \n",
            "=================================================================\n",
            "Total params: 2,417,575\n",
            "Trainable params: 2,414,631\n",
            "Non-trainable params: 2,944\n",
            "_________________________________________________________________\n"
          ]
        }
      ]
    },
    {
      "cell_type": "code",
      "metadata": {
        "colab": {
          "base_uri": "https://localhost:8080/"
        },
        "id": "aM0GcOgfphGR",
        "outputId": "c9cd3eb8-bf77-4329-faf3-ed0d1f8b348c"
      },
      "source": [
        "model.compile(optimizer=Adam(lr=1e-7), loss='sparse_categorical_crossentropy', metrics=['accuracy'])"
      ],
      "execution_count": 38,
      "outputs": [
        {
          "output_type": "stream",
          "name": "stderr",
          "text": [
            "/usr/local/lib/python3.7/dist-packages/keras/optimizer_v2/adam.py:105: UserWarning: The `lr` argument is deprecated, use `learning_rate` instead.\n",
            "  super(Adam, self).__init__(name, **kwargs)\n"
          ]
        }
      ]
    },
    {
      "cell_type": "code",
      "metadata": {
        "id": "AId21hkrkta8"
      },
      "source": [
        "\"\"\"batch_size = 128\n",
        "data_size = data_train.shape[0]\n",
        "model = Sequential()\n",
        "model.add(Conv2D(32, (3, 3), activation='relu', input_shape=(48, 48, 1)))\n",
        "model.add(MaxPool2D((2, 2)))\n",
        "model.add(Conv2D(64, (3, 3), activation='relu'))\n",
        "model.add(MaxPool2D((2, 2)))\n",
        "model.add(Conv2D(64, (3, 3), activation='relu'))\n",
        "model.add(MaxPool2D((2, 2)))\n",
        "model.add(Conv2D(64, (3, 3), activation='relu'))\n",
        "model.add(MaxPool2D((2, 2)))\n",
        "model.add(Flatten())\n",
        "model.add(Dense(64, activation='relu'))\n",
        "model.add(Flatten())\n",
        "model.add(Dense(64, activation='relu'))\n",
        "model.add(Dense(7, activation='softmax'))\n",
        "model.compile(optimizer=Adam(lr=1e-3), loss='sparse_categorical_crossentropy', metrics=['accuracy'])\n",
        "model.summary()\"\"\""
      ],
      "execution_count": null,
      "outputs": []
    },
    {
      "cell_type": "code",
      "metadata": {
        "colab": {
          "base_uri": "https://localhost:8080/"
        },
        "id": "c5FfkU7kysdR",
        "outputId": "261afd33-3869-4372-80bd-7cffb65d97dc"
      },
      "source": [
        "history = model.fit(data_train, labels_train,shuffle=True,\n",
        "                    validation_data=(data_test, labels_test),\n",
        "                    epochs=50,\n",
        "                    batch_size=64,callbacks=callbacks_list)"
      ],
      "execution_count": 39,
      "outputs": [
        {
          "output_type": "stream",
          "name": "stdout",
          "text": [
            "Epoch 1/50\n",
            "449/449 [==============================] - ETA: 0s - loss: 3.2462 - accuracy: 0.1426WARNING:tensorflow:Can save best model only with val_acc available, skipping.\n",
            "449/449 [==============================] - 36s 75ms/step - loss: 3.2462 - accuracy: 0.1426 - val_loss: 2.3515 - val_accuracy: 0.1420 - lr: 1.0000e-07\n",
            "Epoch 2/50\n",
            "449/449 [==============================] - ETA: 0s - loss: 3.2096 - accuracy: 0.1456WARNING:tensorflow:Can save best model only with val_acc available, skipping.\n",
            "449/449 [==============================] - 33s 73ms/step - loss: 3.2096 - accuracy: 0.1456 - val_loss: 2.3232 - val_accuracy: 0.1477 - lr: 1.0000e-07\n",
            "Epoch 3/50\n",
            "449/449 [==============================] - ETA: 0s - loss: 3.2311 - accuracy: 0.1438WARNING:tensorflow:Can save best model only with val_acc available, skipping.\n",
            "449/449 [==============================] - 32s 72ms/step - loss: 3.2311 - accuracy: 0.1438 - val_loss: 2.3227 - val_accuracy: 0.1491 - lr: 1.0000e-07\n",
            "Epoch 4/50\n",
            "449/449 [==============================] - ETA: 0s - loss: 3.2323 - accuracy: 0.1459WARNING:tensorflow:Can save best model only with val_acc available, skipping.\n",
            "449/449 [==============================] - 32s 72ms/step - loss: 3.2323 - accuracy: 0.1459 - val_loss: 2.3142 - val_accuracy: 0.1491 - lr: 1.0000e-07\n",
            "Epoch 5/50\n",
            "449/449 [==============================] - ETA: 0s - loss: 3.2076 - accuracy: 0.1473WARNING:tensorflow:Can save best model only with val_acc available, skipping.\n",
            "449/449 [==============================] - 33s 72ms/step - loss: 3.2076 - accuracy: 0.1473 - val_loss: 2.3202 - val_accuracy: 0.1468 - lr: 1.0000e-07\n",
            "Epoch 6/50\n",
            "448/449 [============================>.] - ETA: 0s - loss: 3.2259 - accuracy: 0.1475WARNING:tensorflow:Can save best model only with val_acc available, skipping.\n",
            "449/449 [==============================] - 32s 72ms/step - loss: 3.2260 - accuracy: 0.1473 - val_loss: 2.3099 - val_accuracy: 0.1475 - lr: 1.0000e-07\n",
            "Epoch 7/50\n",
            "449/449 [==============================] - ETA: 0s - loss: 3.2189 - accuracy: 0.1473WARNING:tensorflow:Can save best model only with val_acc available, skipping.\n",
            "449/449 [==============================] - 32s 72ms/step - loss: 3.2189 - accuracy: 0.1473 - val_loss: 2.3058 - val_accuracy: 0.1488 - lr: 1.0000e-07\n",
            "Epoch 8/50\n",
            "449/449 [==============================] - ETA: 0s - loss: 3.2175 - accuracy: 0.1499WARNING:tensorflow:Can save best model only with val_acc available, skipping.\n",
            "449/449 [==============================] - 32s 72ms/step - loss: 3.2175 - accuracy: 0.1499 - val_loss: 2.3097 - val_accuracy: 0.1492 - lr: 1.0000e-07\n",
            "Epoch 9/50\n",
            "449/449 [==============================] - ETA: 0s - loss: 3.2054 - accuracy: 0.1443WARNING:tensorflow:Can save best model only with val_acc available, skipping.\n",
            "449/449 [==============================] - 33s 72ms/step - loss: 3.2054 - accuracy: 0.1443 - val_loss: 2.3131 - val_accuracy: 0.1492 - lr: 1.0000e-07\n",
            "Epoch 10/50\n",
            "449/449 [==============================] - ETA: 0s - loss: 3.1923 - accuracy: 0.1517WARNING:tensorflow:Can save best model only with val_acc available, skipping.\n",
            "449/449 [==============================] - 32s 72ms/step - loss: 3.1923 - accuracy: 0.1517 - val_loss: 2.3008 - val_accuracy: 0.1507 - lr: 1.0000e-07\n",
            "Epoch 11/50\n",
            "449/449 [==============================] - ETA: 0s - loss: 3.1992 - accuracy: 0.1466WARNING:tensorflow:Can save best model only with val_acc available, skipping.\n",
            "449/449 [==============================] - 32s 72ms/step - loss: 3.1992 - accuracy: 0.1466 - val_loss: 2.3077 - val_accuracy: 0.1512 - lr: 1.0000e-07\n",
            "Epoch 12/50\n",
            "449/449 [==============================] - ETA: 0s - loss: 3.2187 - accuracy: 0.1470WARNING:tensorflow:Can save best model only with val_acc available, skipping.\n",
            "449/449 [==============================] - 33s 73ms/step - loss: 3.2187 - accuracy: 0.1470 - val_loss: 2.3032 - val_accuracy: 0.1506 - lr: 1.0000e-07\n",
            "Epoch 13/50\n",
            "449/449 [==============================] - ETA: 0s - loss: 3.1983 - accuracy: 0.1469WARNING:tensorflow:Can save best model only with val_acc available, skipping.\n",
            "\n",
            "Epoch 00013: ReduceLROnPlateau reducing learning rate to 2.000000023372195e-08.\n",
            "449/449 [==============================] - 33s 73ms/step - loss: 3.1983 - accuracy: 0.1469 - val_loss: 2.3020 - val_accuracy: 0.1484 - lr: 1.0000e-07\n",
            "Epoch 14/50\n",
            "448/449 [============================>.] - ETA: 0s - loss: 3.1940 - accuracy: 0.1514WARNING:tensorflow:Can save best model only with val_acc available, skipping.\n",
            "449/449 [==============================] - 32s 72ms/step - loss: 3.1936 - accuracy: 0.1515 - val_loss: 2.2974 - val_accuracy: 0.1512 - lr: 2.0000e-08\n",
            "Epoch 15/50\n",
            "448/449 [============================>.] - ETA: 0s - loss: 3.2040 - accuracy: 0.1511WARNING:tensorflow:Can save best model only with val_acc available, skipping.\n",
            "449/449 [==============================] - 32s 72ms/step - loss: 3.2039 - accuracy: 0.1511 - val_loss: 2.2966 - val_accuracy: 0.1505 - lr: 2.0000e-08\n",
            "Epoch 16/50\n",
            "449/449 [==============================] - ETA: 0s - loss: 3.1989 - accuracy: 0.1509WARNING:tensorflow:Can save best model only with val_acc available, skipping.\n",
            "449/449 [==============================] - 32s 72ms/step - loss: 3.1989 - accuracy: 0.1509 - val_loss: 2.3011 - val_accuracy: 0.1502 - lr: 2.0000e-08\n",
            "Epoch 17/50\n",
            "449/449 [==============================] - ETA: 0s - loss: 3.2066 - accuracy: 0.1476WARNING:tensorflow:Can save best model only with val_acc available, skipping.\n",
            "449/449 [==============================] - 32s 72ms/step - loss: 3.2066 - accuracy: 0.1476 - val_loss: 2.2976 - val_accuracy: 0.1505 - lr: 2.0000e-08\n",
            "Epoch 18/50\n",
            "448/449 [============================>.] - ETA: 0s - loss: 3.2202 - accuracy: 0.1458WARNING:tensorflow:Can save best model only with val_acc available, skipping.\n",
            "\n",
            "Epoch 00018: ReduceLROnPlateau reducing learning rate to 3.999999975690117e-09.\n",
            "449/449 [==============================] - 32s 72ms/step - loss: 3.2199 - accuracy: 0.1458 - val_loss: 2.2989 - val_accuracy: 0.1495 - lr: 2.0000e-08\n",
            "Epoch 19/50\n",
            "449/449 [==============================] - ETA: 0s - loss: 3.2165 - accuracy: 0.1455WARNING:tensorflow:Can save best model only with val_acc available, skipping.\n",
            "449/449 [==============================] - 33s 72ms/step - loss: 3.2165 - accuracy: 0.1455 - val_loss: 2.2987 - val_accuracy: 0.1499 - lr: 4.0000e-09\n",
            "Epoch 20/50\n",
            "449/449 [==============================] - ETA: 0s - loss: 3.2054 - accuracy: 0.1472WARNING:tensorflow:Can save best model only with val_acc available, skipping.\n",
            "449/449 [==============================] - 33s 73ms/step - loss: 3.2054 - accuracy: 0.1472 - val_loss: 2.2967 - val_accuracy: 0.1520 - lr: 4.0000e-09\n",
            "Epoch 21/50\n",
            "449/449 [==============================] - ETA: 0s - loss: 3.1851 - accuracy: 0.1476WARNING:tensorflow:Can save best model only with val_acc available, skipping.\n",
            "449/449 [==============================] - 33s 72ms/step - loss: 3.1851 - accuracy: 0.1476 - val_loss: 2.2963 - val_accuracy: 0.1505 - lr: 4.0000e-09\n",
            "Epoch 22/50\n",
            "449/449 [==============================] - ETA: 0s - loss: 3.2087 - accuracy: 0.1447WARNING:tensorflow:Can save best model only with val_acc available, skipping.\n",
            "449/449 [==============================] - 33s 73ms/step - loss: 3.2087 - accuracy: 0.1447 - val_loss: 2.2994 - val_accuracy: 0.1495 - lr: 4.0000e-09\n",
            "Epoch 23/50\n",
            "449/449 [==============================] - ETA: 0s - loss: 3.2067 - accuracy: 0.1459WARNING:tensorflow:Can save best model only with val_acc available, skipping.\n",
            "449/449 [==============================] - 32s 72ms/step - loss: 3.2067 - accuracy: 0.1459 - val_loss: 2.3011 - val_accuracy: 0.1505 - lr: 4.0000e-09\n",
            "Epoch 24/50\n",
            "449/449 [==============================] - ETA: 0s - loss: 3.2223 - accuracy: 0.1463WARNING:tensorflow:Can save best model only with val_acc available, skipping.\n",
            "449/449 [==============================] - 32s 72ms/step - loss: 3.2223 - accuracy: 0.1463 - val_loss: 2.2944 - val_accuracy: 0.1500 - lr: 4.0000e-09\n",
            "Epoch 25/50\n",
            "449/449 [==============================] - ETA: 0s - loss: 3.2005 - accuracy: 0.1493WARNING:tensorflow:Can save best model only with val_acc available, skipping.\n",
            "449/449 [==============================] - 33s 72ms/step - loss: 3.2005 - accuracy: 0.1493 - val_loss: 2.2966 - val_accuracy: 0.1519 - lr: 4.0000e-09\n",
            "Epoch 26/50\n",
            "449/449 [==============================] - ETA: 0s - loss: 3.2076 - accuracy: 0.1431WARNING:tensorflow:Can save best model only with val_acc available, skipping.\n",
            "449/449 [==============================] - 33s 73ms/step - loss: 3.2076 - accuracy: 0.1431 - val_loss: 2.2947 - val_accuracy: 0.1503 - lr: 4.0000e-09\n",
            "Epoch 27/50\n",
            "449/449 [==============================] - ETA: 0s - loss: 3.2105 - accuracy: 0.1463WARNING:tensorflow:Can save best model only with val_acc available, skipping.\n",
            "\n",
            "Epoch 00027: ReduceLROnPlateau reducing learning rate to 7.999999773744548e-10.\n",
            "449/449 [==============================] - 33s 73ms/step - loss: 3.2105 - accuracy: 0.1463 - val_loss: 2.2980 - val_accuracy: 0.1507 - lr: 4.0000e-09\n",
            "Epoch 28/50\n",
            "449/449 [==============================] - ETA: 0s - loss: 3.1831 - accuracy: 0.1477WARNING:tensorflow:Can save best model only with val_acc available, skipping.\n",
            "449/449 [==============================] - 33s 73ms/step - loss: 3.1831 - accuracy: 0.1477 - val_loss: 2.2968 - val_accuracy: 0.1510 - lr: 8.0000e-10\n",
            "Epoch 29/50\n",
            "449/449 [==============================] - ETA: 0s - loss: 3.2253 - accuracy: 0.1438WARNING:tensorflow:Can save best model only with val_acc available, skipping.\n",
            "449/449 [==============================] - 33s 73ms/step - loss: 3.2253 - accuracy: 0.1438 - val_loss: 2.2969 - val_accuracy: 0.1500 - lr: 8.0000e-10\n",
            "Epoch 30/50\n",
            "449/449 [==============================] - ETA: 0s - loss: 3.2205 - accuracy: 0.1459WARNING:tensorflow:Can save best model only with val_acc available, skipping.\n",
            "449/449 [==============================] - 33s 74ms/step - loss: 3.2205 - accuracy: 0.1459 - val_loss: 2.2918 - val_accuracy: 0.1510 - lr: 8.0000e-10\n",
            "Epoch 31/50\n",
            "449/449 [==============================] - ETA: 0s - loss: 3.2134 - accuracy: 0.1480WARNING:tensorflow:Can save best model only with val_acc available, skipping.\n",
            "449/449 [==============================] - 33s 73ms/step - loss: 3.2134 - accuracy: 0.1480 - val_loss: 2.2990 - val_accuracy: 0.1502 - lr: 8.0000e-10\n",
            "Epoch 32/50\n",
            "448/449 [============================>.] - ETA: 0s - loss: 3.2131 - accuracy: 0.1453WARNING:tensorflow:Can save best model only with val_acc available, skipping.\n",
            "449/449 [==============================] - 33s 73ms/step - loss: 3.2134 - accuracy: 0.1453 - val_loss: 2.3012 - val_accuracy: 0.1503 - lr: 8.0000e-10\n",
            "Epoch 33/50\n",
            "449/449 [==============================] - ETA: 0s - loss: 3.2169 - accuracy: 0.1478WARNING:tensorflow:Can save best model only with val_acc available, skipping.\n",
            "\n",
            "Epoch 00033: ReduceLROnPlateau reducing learning rate to 1.5999999103399887e-10.\n",
            "449/449 [==============================] - 33s 73ms/step - loss: 3.2169 - accuracy: 0.1478 - val_loss: 2.3022 - val_accuracy: 0.1481 - lr: 8.0000e-10\n",
            "Epoch 34/50\n",
            "448/449 [============================>.] - ETA: 0s - loss: 3.2003 - accuracy: 0.1484WARNING:tensorflow:Can save best model only with val_acc available, skipping.\n",
            "449/449 [==============================] - 33s 73ms/step - loss: 3.2008 - accuracy: 0.1482 - val_loss: 2.2955 - val_accuracy: 0.1512 - lr: 1.6000e-10\n",
            "Epoch 35/50\n",
            "449/449 [==============================] - ETA: 0s - loss: 3.1925 - accuracy: 0.1507WARNING:tensorflow:Can save best model only with val_acc available, skipping.\n",
            "449/449 [==============================] - 33s 73ms/step - loss: 3.1925 - accuracy: 0.1507 - val_loss: 2.2979 - val_accuracy: 0.1502 - lr: 1.6000e-10\n",
            "Epoch 36/50\n",
            "449/449 [==============================] - ETA: 0s - loss: 3.2169 - accuracy: 0.1470WARNING:tensorflow:Can save best model only with val_acc available, skipping.\n",
            "\n",
            "Epoch 00036: ReduceLROnPlateau reducing learning rate to 3.199999709657675e-11.\n",
            "449/449 [==============================] - 33s 73ms/step - loss: 3.2169 - accuracy: 0.1470 - val_loss: 2.2960 - val_accuracy: 0.1505 - lr: 1.6000e-10\n",
            "Epoch 37/50\n",
            "449/449 [==============================] - ETA: 0s - loss: 3.2223 - accuracy: 0.1456Restoring model weights from the end of the best epoch: 30.\n",
            "WARNING:tensorflow:Can save best model only with val_acc available, skipping.\n",
            "449/449 [==============================] - 33s 73ms/step - loss: 3.2223 - accuracy: 0.1456 - val_loss: 2.2994 - val_accuracy: 0.1485 - lr: 3.2000e-11\n",
            "Epoch 00037: early stopping\n"
          ]
        }
      ]
    },
    {
      "cell_type": "code",
      "metadata": {
        "colab": {
          "base_uri": "https://localhost:8080/",
          "height": 350
        },
        "id": "UIQ29EmxfhBF",
        "outputId": "8caeb7bc-c927-4125-8606-283e45e31089"
      },
      "source": [
        "import matplotlib.pyplot as plt\n",
        "\n",
        "fig , ax = plt.subplots(1,2)\n",
        "train_accuracy = history.history['accuracy']\n",
        "train_loss = history.history['loss']\n",
        "fig.set_size_inches(10,5)\n",
        "\n",
        "ax[0].plot(history.history['accuracy'])\n",
        "ax[0].plot(history.history['val_accuracy'])\n",
        "ax[0].set_title('Training Accuracy vs Validation Accuracy')\n",
        "ax[0].set_ylabel('Accuracy')\n",
        "ax[0].set_xlabel('Epochs')\n",
        "ax[0].legend(['Train', 'Validation'], loc='best')\n",
        "\n",
        "ax[1].plot(history.history['loss'])\n",
        "ax[1].plot(history.history['val_loss'])\n",
        "ax[1].set_title('Training Loss vs Validation Loss')\n",
        "ax[1].set_ylabel('Loss')\n",
        "ax[1].set_xlabel('Epochs')\n",
        "ax[1].legend(['Train', 'Validation'], loc='best')\n",
        "\n",
        "plt.show()"
      ],
      "execution_count": 40,
      "outputs": [
        {
          "output_type": "display_data",
          "data": {
            "image/png": "[encoded data removed]",
            "text/plain": [
              "<Figure size 720x360 with 2 Axes>"
            ]
          },
          "metadata": {
            "needs_background": "light"
          }
        }
      ]
    },
    {
      "cell_type": "code",
      "metadata": {
        "id": "-U8LW1qfzYum"
      },
      "source": [
        "model.save('emotion_detection.h5')\n",
        "model.save_weights('model_weight.h5')\n",
        "np.save(\"history\", history.history)"
      ],
      "execution_count": 41,
      "outputs": []
    },
    {
      "cell_type": "code",
      "metadata": {
        "colab": {
          "base_uri": "https://localhost:8080/"
        },
        "id": "yyo-SwiVNES7",
        "outputId": "6933c286-27f8-4c16-96ea-efcbd44a0c2d"
      },
      "source": [
        "type(data_test)"
      ],
      "execution_count": 42,
      "outputs": [
        {
          "output_type": "execute_result",
          "data": {
            "text/plain": [
              "numpy.ndarray"
            ]
          },
          "metadata": {},
          "execution_count": 42
        }
      ]
    },
    {
      "cell_type": "code",
      "metadata": {
        "id": "XE3Sw5c1ybCX",
        "colab": {
          "base_uri": "https://localhost:8080/"
        },
        "outputId": "1a971194-7424-43d5-bca0-57951a89a168"
      },
      "source": [
        "print(model.predict(data_test))"
      ],
      "execution_count": 43,
      "outputs": [
        {
          "output_type": "stream",
          "name": "stdout",
          "text": [
            "[[0.0775662  0.09208376 0.23754895 ... 0.17576164 0.3393366  0.042054  ]\n",
            " [0.051852   0.11986084 0.07862073 ... 0.5599976  0.06894977 0.03352305]\n",
            " [0.08775885 0.18323126 0.13762417 ... 0.11216713 0.26636475 0.19363451]\n",
            " ...\n",
            " [0.17588401 0.07042264 0.30110157 ... 0.10732745 0.16866416 0.08377769]\n",
            " [0.13161138 0.02263541 0.06450109 ... 0.0834731  0.6016171  0.08560303]\n",
            " [0.13245134 0.09326057 0.19507127 ... 0.2179065  0.2736806  0.0584121 ]]\n"
          ]
        }
      ]
    },
    {
      "cell_type": "code",
      "metadata": {
        "id": "394-ulkdNn7M"
      },
      "source": [
        "from tensorflow.keras.models import load_model\n",
        "model2= load_model(\"emotion_detection.h5\")\n",
        "model2.load_weights(\"model_weight.h5\")"
      ],
      "execution_count": 44,
      "outputs": []
    },
    {
      "cell_type": "code",
      "metadata": {
        "colab": {
          "base_uri": "https://localhost:8080/"
        },
        "id": "4eho9MPdN95k",
        "outputId": "b7929554-ecf9-4099-96f2-2e3336f6f549"
      },
      "source": [
        "print(model2.predict(data_test))"
      ],
      "execution_count": 45,
      "outputs": [
        {
          "output_type": "stream",
          "name": "stdout",
          "text": [
            "[[0.0775662  0.09208376 0.23754895 ... 0.17576164 0.3393366  0.042054  ]\n",
            " [0.051852   0.11986084 0.07862073 ... 0.5599976  0.06894977 0.03352305]\n",
            " [0.08775885 0.18323126 0.13762417 ... 0.11216713 0.26636475 0.19363451]\n",
            " ...\n",
            " [0.17588401 0.07042264 0.30110157 ... 0.10732745 0.16866416 0.08377769]\n",
            " [0.13161138 0.02263541 0.06450109 ... 0.0834731  0.6016171  0.08560303]\n",
            " [0.13245134 0.09326057 0.19507127 ... 0.2179065  0.2736806  0.0584121 ]]\n"
          ]
        }
      ]
    }
  ]
}